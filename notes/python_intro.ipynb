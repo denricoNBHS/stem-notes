{
 "cells": [
  {
   "cell_type": "markdown",
   "metadata": {
    "collapsed": true
   },
   "source": [
    "# Introduction to Python"
   ]
  },
  {
   "cell_type": "markdown",
   "metadata": {},
   "source": [
    "Let's dive right into what Python can do! First, fire up the interactive Python interpreter from your command prompt (PowerShell for Windows or Terminal for OS X). \n",
    "\n",
    "__Note for clarity__: Your prompt depends on your username, directory, and a host of other variables I couldn't possibly anticipate. I've tried to generalize below, but to be clear, the only command you're entering at the prompt is `python`"
   ]
  },
  {
   "cell_type": "markdown",
   "metadata": {},
   "source": [
    "### _Windows_:\n",
    "\n",
    "`C:\\[directory\\username]> python`"
   ]
  },
  {
   "cell_type": "markdown",
   "metadata": {},
   "source": [
    "### _Mac OS X_:\n",
    "\n",
    "`[your username]$ python`"
   ]
  },
  {
   "cell_type": "markdown",
   "metadata": {},
   "source": [
    "Once you've started the iPython (interactive Python) shell, your prompt will look like this:\n",
    "\n",
    "`>>>`\n",
    "\n",
    "and it will accept Python commands. Let's test it out:"
   ]
  },
  {
   "cell_type": "code",
   "execution_count": 10,
   "metadata": {
    "collapsed": false
   },
   "outputs": [
    {
     "name": "stdout",
     "output_type": "stream",
     "text": [
      "Hello world!\n"
     ]
    }
   ],
   "source": [
    "print('Hello world!')"
   ]
  },
  {
   "cell_type": "markdown",
   "metadata": {},
   "source": [
    "In this (stale yet traditional) example, we've called the __function__ `print` with the __argument__ `'Hello world!'`. As you've no doubt figured out, the `print()` function prints its argument to the screen. In this case, we've passed it the __string__ `'Hello world!'` In Python, and programming in general, a string is simply text for display or manipulation.\n",
    "\n",
    "In Python, strings are surrounded in quotes, like `'Hey, hey!'` or `\"My, my!\"`. At any point, you can check an object's __type__ by using the `type()` function, as shown below."
   ]
  },
  {
   "cell_type": "code",
   "execution_count": 11,
   "metadata": {
    "collapsed": false
   },
   "outputs": [
    {
     "data": {
      "text/plain": [
       "str"
      ]
     },
     "execution_count": 11,
     "metadata": {},
     "output_type": "execute_result"
    }
   ],
   "source": [
    "type('Rock and Roll will never die.')"
   ]
  },
  {
   "cell_type": "markdown",
   "metadata": {},
   "source": [
    "You can see that the function returns the value `str`, which is short for _string_. Let's see what else the interpreter can do: [Mathematical Operators](mathematical_operators.ipynb)"
   ]
  },
  {
   "cell_type": "code",
   "execution_count": 1,
   "metadata": {
    "collapsed": true
   },
   "outputs": [],
   "source": [
    "# Note: throughout the guide, you'll see comments like this throughout the code\n",
    "# Python ignores anything on a line after the '#' symbol.\n",
    "# Getting into the habit of commenting your code will help you and your readers\n",
    "# once your code starts getting more complex."
   ]
  }
 ],
 "metadata": {
  "kernelspec": {
   "display_name": "Python 3",
   "language": "python",
   "name": "python3"
  },
  "language_info": {
   "codemirror_mode": {
    "name": "ipython",
    "version": 3
   },
   "file_extension": ".py",
   "mimetype": "text/x-python",
   "name": "python",
   "nbconvert_exporter": "python",
   "pygments_lexer": "ipython3",
   "version": "3.5.2"
  }
 },
 "nbformat": 4,
 "nbformat_minor": 0
}
