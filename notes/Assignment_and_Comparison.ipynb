{
 "cells": [
  {
   "cell_type": "markdown",
   "metadata": {},
   "source": [
    "# Assignment and Comparison in Python:\n",
    "### Not all equals are equal"
   ]
  },
  {
   "cell_type": "markdown",
   "metadata": {},
   "source": [
    "Time for what might very well be the operator you use most frequently in Python, the assignment operator, `=`. \n",
    "\n",
    "You might be thinking, \"Isn't that an equals sign?\" You'd be wrong, and that's what you get for thinking. Okay, to be fair, it _is_ an equals sign, but the way it behaves in Python is subtly different from what you're used to.\n",
    "\n",
    "At the interactive prompt, when you enter something like: `a = 3` you're saying that `a` and 3 are the same, but more importantly, you're taking the __variable__ `a` and __assigning__ it a value of 3.[$^1$](#fn_1). <a id=\"back_1\"></a>Now when we ask the interpreter about the value of `a`, we get 3."
   ]
  },
  {
   "cell_type": "code",
   "execution_count": 60,
   "metadata": {},
   "outputs": [],
   "source": [
    "a = 3"
   ]
  },
  {
   "cell_type": "code",
   "execution_count": 61,
   "metadata": {},
   "outputs": [
    {
     "data": {
      "text/plain": [
       "3"
      ]
     },
     "execution_count": 61,
     "metadata": {},
     "output_type": "execute_result"
    }
   ],
   "source": [
    "a"
   ]
  },
  {
   "cell_type": "markdown",
   "metadata": {},
   "source": [
    "We can also perform all of the same operations on `a` we could with the number 3. For all intents and purposes, `a` _is_ 3."
   ]
  },
  {
   "cell_type": "code",
   "execution_count": 62,
   "metadata": {},
   "outputs": [
    {
     "data": {
      "text/plain": [
       "9"
      ]
     },
     "execution_count": 62,
     "metadata": {},
     "output_type": "execute_result"
    }
   ],
   "source": [
    "a**2"
   ]
  },
  {
   "cell_type": "code",
   "execution_count": 63,
   "metadata": {},
   "outputs": [
    {
     "data": {
      "text/plain": [
       "2"
      ]
     },
     "execution_count": 63,
     "metadata": {},
     "output_type": "execute_result"
    }
   ],
   "source": [
    "a-1"
   ]
  },
  {
   "cell_type": "code",
   "execution_count": 64,
   "metadata": {},
   "outputs": [
    {
     "data": {
      "text/plain": [
       "1"
      ]
     },
     "execution_count": 64,
     "metadata": {},
     "output_type": "execute_result"
    }
   ],
   "source": [
    "a % 2"
   ]
  },
  {
   "cell_type": "markdown",
   "metadata": {},
   "source": [
    "This isn't just limited to `int` types. Variables in Python can store _any_ object type:"
   ]
  },
  {
   "cell_type": "code",
   "execution_count": 65,
   "metadata": {},
   "outputs": [],
   "source": [
    "three = \"III\""
   ]
  },
  {
   "cell_type": "markdown",
   "metadata": {},
   "source": [
    "... and they can be used in functions:"
   ]
  },
  {
   "cell_type": "code",
   "execution_count": 66,
   "metadata": {},
   "outputs": [
    {
     "data": {
      "text/plain": [
       "str"
      ]
     },
     "execution_count": 66,
     "metadata": {},
     "output_type": "execute_result"
    }
   ],
   "source": [
    "type(three)"
   ]
  },
  {
   "cell_type": "code",
   "execution_count": 67,
   "metadata": {},
   "outputs": [
    {
     "name": "stdout",
     "output_type": "stream",
     "text": [
      "III\n"
     ]
    }
   ],
   "source": [
    "print(three)"
   ]
  },
  {
   "cell_type": "markdown",
   "metadata": {},
   "source": [
    "You can also reassign a variable after you've previously assigned it."
   ]
  },
  {
   "cell_type": "code",
   "execution_count": 68,
   "metadata": {},
   "outputs": [],
   "source": [
    "three = 3"
   ]
  },
  {
   "cell_type": "code",
   "execution_count": 69,
   "metadata": {},
   "outputs": [
    {
     "data": {
      "text/plain": [
       "3"
      ]
     },
     "execution_count": 69,
     "metadata": {},
     "output_type": "execute_result"
    }
   ],
   "source": [
    "three"
   ]
  },
  {
   "cell_type": "markdown",
   "metadata": {},
   "source": [
    "Python also supports _multiple assignment_. This can save space, but can also make your code more difficult to read. Only you can decide whether the tradeoff is worth it. \n",
    "\n",
    "For example:"
   ]
  },
  {
   "cell_type": "code",
   "execution_count": 70,
   "metadata": {},
   "outputs": [],
   "source": [
    "#Without multiple assignment\n",
    "a = \"Apple\"\n",
    "b = \"Banana\"\n",
    "c = \"Cherry\""
   ]
  },
  {
   "cell_type": "code",
   "execution_count": 71,
   "metadata": {},
   "outputs": [
    {
     "name": "stdout",
     "output_type": "stream",
     "text": [
      "Apple Banana Cherry\n"
     ]
    }
   ],
   "source": [
    "print(a, b, c)"
   ]
  },
  {
   "cell_type": "code",
   "execution_count": 72,
   "metadata": {},
   "outputs": [],
   "source": [
    "#Using multiple assignment\n",
    "a, b, c = 1, 2, 3"
   ]
  },
  {
   "cell_type": "code",
   "execution_count": 73,
   "metadata": {},
   "outputs": [
    {
     "name": "stdout",
     "output_type": "stream",
     "text": [
      "1 2 3\n"
     ]
    }
   ],
   "source": [
    "print(a, b, c)"
   ]
  },
  {
   "cell_type": "markdown",
   "metadata": {},
   "source": [
    "### Comparison"
   ]
  },
  {
   "cell_type": "markdown",
   "metadata": {},
   "source": [
    "If you're looking to _test_ whether two things are equal, we use the __equivalence__ operator, `==`."
   ]
  },
  {
   "cell_type": "code",
   "execution_count": 74,
   "metadata": {},
   "outputs": [
    {
     "data": {
      "text/plain": [
       "True"
      ]
     },
     "execution_count": 74,
     "metadata": {},
     "output_type": "execute_result"
    }
   ],
   "source": [
    "a == 1 # Is a equal to 1? "
   ]
  },
  {
   "cell_type": "markdown",
   "metadata": {},
   "source": [
    "The previous line is asking Python whether `a` and 1 are equivalent. In this case, since we set `a = 1` in our last example, Python responds with an emphatic \"Yes!\". Wait... we haven't seen this before. Let's get out our Pythondex and see what we have here."
   ]
  },
  {
   "cell_type": "code",
   "execution_count": 75,
   "metadata": {},
   "outputs": [
    {
     "data": {
      "text/plain": [
       "bool"
      ]
     },
     "execution_count": 75,
     "metadata": {},
     "output_type": "execute_result"
    }
   ],
   "source": [
    "type(a==1)"
   ]
  },
  {
   "cell_type": "markdown",
   "metadata": {},
   "source": [
    "What's `bool`? _Boolean_ objects are used to keep track of `True`/`False` values. Any type of __conditional__ programming relies on these values to make decisions. For example, let's use modular arithmetic to evaluate whether or not a number is even:"
   ]
  },
  {
   "cell_type": "code",
   "execution_count": 76,
   "metadata": {},
   "outputs": [
    {
     "data": {
      "text/plain": [
       "False"
      ]
     },
     "execution_count": 76,
     "metadata": {},
     "output_type": "execute_result"
    }
   ],
   "source": [
    "89 % 2 == 0"
   ]
  },
  {
   "cell_type": "markdown",
   "metadata": {},
   "source": [
    "This code is equivalent to asking, \"Hey Python, is the remainder of 89 divided by 2 zero?\"\n",
    "\n",
    "Python's all, \"You mean is 89 even? I got you fam... erm... no.\""
   ]
  },
  {
   "cell_type": "markdown",
   "metadata": {},
   "source": [
    "Here are some of the other comparison operators in action: "
   ]
  },
  {
   "cell_type": "code",
   "execution_count": 77,
   "metadata": {},
   "outputs": [
    {
     "data": {
      "text/plain": [
       "True"
      ]
     },
     "execution_count": 77,
     "metadata": {},
     "output_type": "execute_result"
    }
   ],
   "source": [
    "8 != 9 # Is 8 not equal to 9? "
   ]
  },
  {
   "cell_type": "code",
   "execution_count": 78,
   "metadata": {},
   "outputs": [
    {
     "data": {
      "text/plain": [
       "False"
      ]
     },
     "execution_count": 78,
     "metadata": {},
     "output_type": "execute_result"
    }
   ],
   "source": [
    "5 > 6 # Is 5 greater than 6?"
   ]
  },
  {
   "cell_type": "code",
   "execution_count": 79,
   "metadata": {},
   "outputs": [
    {
     "data": {
      "text/plain": [
       "True"
      ]
     },
     "execution_count": 79,
     "metadata": {},
     "output_type": "execute_result"
    }
   ],
   "source": [
    "5 < 6 # Is 5 less than 6?"
   ]
  },
  {
   "cell_type": "code",
   "execution_count": 80,
   "metadata": {},
   "outputs": [
    {
     "data": {
      "text/plain": [
       "False"
      ]
     },
     "execution_count": 80,
     "metadata": {},
     "output_type": "execute_result"
    }
   ],
   "source": [
    "9 >= 19 # Is 9 greater than or equal to 19?"
   ]
  },
  {
   "cell_type": "code",
   "execution_count": 81,
   "metadata": {},
   "outputs": [
    {
     "data": {
      "text/plain": [
       "True"
      ]
     },
     "execution_count": 81,
     "metadata": {},
     "output_type": "execute_result"
    }
   ],
   "source": [
    "9 <= 19 # Is 9 less than or equal to 19?"
   ]
  },
  {
   "cell_type": "markdown",
   "metadata": {},
   "source": [
    "### Boolean Algebra"
   ]
  },
  {
   "cell_type": "markdown",
   "metadata": {},
   "source": [
    "There are also a few _logical_ operators that work on these Boolean types. I'll give a brief explanation of each alongside its __truth table__ (don't get too worked up over the code yet, we'll get there)."
   ]
  },
  {
   "cell_type": "code",
   "execution_count": 82,
   "metadata": {},
   "outputs": [
    {
     "name": "stdout",
     "output_type": "stream",
     "text": [
      "True and True == True\n",
      "True and False == False\n",
      "False and True == False\n",
      "False and False == False\n"
     ]
    }
   ],
   "source": [
    "# The logical AND works just like its English counterpart. For example,\n",
    "# a sandwich can only be considered peanut butter and jelly if it has both \n",
    "# peanut butter and jelly. \n",
    "# a AND b is only true if both a and b are individually true.\n",
    "\n",
    "for a in [True, False]:\n",
    "    for b in [True, False]:\n",
    "        print(\"%s and %s == %s\" % (a, b, a and b))"
   ]
  },
  {
   "cell_type": "code",
   "execution_count": 83,
   "metadata": {},
   "outputs": [
    {
     "name": "stdout",
     "output_type": "stream",
     "text": [
      "True or True == True\n",
      "True or False == True\n",
      "False or True == True\n",
      "False or False == False\n"
     ]
    }
   ],
   "source": [
    "# The logical OR is also known as the inclusive OR, and is most similar to the OR in\n",
    "# \"Do you want any coffee or dessert?\" In this case, you're not limited to choosing\n",
    "# just one.\n",
    "# a OR b is true as long as at least one of a or b is true.\n",
    "\n",
    "for a in [True, False]:\n",
    "    for b in [True, False]:\n",
    "        print(\"%s or %s == %s\" % (a, b, a or b))"
   ]
  },
  {
   "cell_type": "code",
   "execution_count": 84,
   "metadata": {},
   "outputs": [
    {
     "name": "stdout",
     "output_type": "stream",
     "text": [
      "True xor True == False\n",
      "True xor False == True\n",
      "False xor True == True\n",
      "False xor False == False\n"
     ]
    }
   ],
   "source": [
    "# OR's counterpart, XOR, is called the exclusive OR, and is similar to the OR at Panera: \n",
    "# \"Your sandwich comes with an apple, bread, or chips. Which would you like?\" It's the OR \n",
    "# in either/or; you can have one or the other.\n",
    "# a XOR b is true as long as a and b have different truth values. In Python, there's no \n",
    "# XOR symbol out of the box, but XOR is logically equivalent to the != we learned earlier.\n",
    "\n",
    "for a in [True, False]:\n",
    "    for b in [True, False]:\n",
    "        print(\"%s xor %s == %s\" % (a, b, a != b))"
   ]
  },
  {
   "cell_type": "code",
   "execution_count": 85,
   "metadata": {
    "scrolled": false
   },
   "outputs": [
    {
     "name": "stdout",
     "output_type": "stream",
     "text": [
      "not True == False\n",
      "not False == True\n"
     ]
    }
   ],
   "source": [
    "# Finally, for sake of completeness, we have NOT, which does exactly what you'd think.\n",
    "# NOT is the Boolean equivalent of a negative sign. \"Hey, you're pretty smart -- NOT,\" \n",
    "# is NOT an example of a compliment!\n",
    "\n",
    "for a in [True, False]:\n",
    "    print(\"not %s == %s\" % (a, not a))"
   ]
  },
  {
   "cell_type": "markdown",
   "metadata": {},
   "source": [
    "<a id=\"fn_1\"></a>\n",
    "### A note on assignment:\n",
    "$^1$_Perhaps more accurately, you're assigning the value 3 to a location in the computer's memory that you're referencing using the name `a`. If you're really curious, you can access this location using the `id()` function_.[&#8617;](#back_1)\n"
   ]
  },
  {
   "cell_type": "code",
   "execution_count": 86,
   "metadata": {},
   "outputs": [
    {
     "data": {
      "text/plain": [
       "4551203680"
      ]
     },
     "execution_count": 86,
     "metadata": {},
     "output_type": "execute_result"
    }
   ],
   "source": [
    "id(a)"
   ]
  }
 ],
 "metadata": {
  "anaconda-cloud": {},
  "kernelspec": {
   "display_name": "Python 3",
   "language": "python",
   "name": "python3"
  },
  "language_info": {
   "codemirror_mode": {
    "name": "ipython",
    "version": 3
   },
   "file_extension": ".py",
   "mimetype": "text/x-python",
   "name": "python",
   "nbconvert_exporter": "python",
   "pygments_lexer": "ipython3",
   "version": "3.6.3"
  }
 },
 "nbformat": 4,
 "nbformat_minor": 1
}
