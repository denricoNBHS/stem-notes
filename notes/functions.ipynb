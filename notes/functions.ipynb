{
 "cells": [
  {
   "cell_type": "markdown",
   "metadata": {
    "collapsed": true
   },
   "source": [
    "# Introduction to Functions"
   ]
  },
  {
   "cell_type": "markdown",
   "metadata": {
    "collapsed": true
   },
   "source": [
    "You may recall from your math classes that a __function__ is a mapping from one set to another where every input maps to exactly one output. Perhaps my language seems odd to you; your experience with functions may be limited to the $y(x)$ variety. If this is the case, don't panic - there are two good (I hope) reasons I've chosen to be a bit more inclusive here.\n",
    "\n",
    "- In your upper-level math classes you'll find this definition of function is a much more useful scaffold upon which to build your intuition.\n",
    "- Most of the functions you'll write in Python have nothing to do with math!"
   ]
  },
  {
   "cell_type": "markdown",
   "metadata": {},
   "source": [
    "You've already seen a few of Python's built-in functions in action -- namely `print()` and `type()`. Python has a ton of [built-in functionality](https://docs.python.org/3/), but what if you want something that Python doesn't already offer?"
   ]
  },
  {
   "cell_type": "markdown",
   "metadata": {},
   "source": [
    "### Anatomy of a Function"
   ]
  },
  {
   "cell_type": "markdown",
   "metadata": {},
   "source": [
    "It turns out defining our own functions is relatively straightforward. Below you'll find a function that takes two numbers as input and adds their squares:"
   ]
  },
  {
   "cell_type": "code",
   "execution_count": 18,
   "metadata": {
    "collapsed": true
   },
   "outputs": [],
   "source": [
    "def add_squares(a, b):  \n",
    "    return a**2 + b**2"
   ]
  },
  {
   "cell_type": "markdown",
   "metadata": {},
   "source": [
    "Let's look at this piece by piece:\n",
    "\n",
    "\n",
    "- the `def` keyword tells Python to __def__ine a new function called `add_squares` \n",
    "\n",
    "\n",
    "- `add_squares`, the function's name, describes what the function does. This isn't necessary for the code to function, but it makes it much more readable. In Python, it's conventional to name functions descriptively using lowercase letters, with underscores separating multiple words.\n",
    "\n",
    "\n",
    "- the function has two _positional_ __parameters__, `a` and `b`. This means `a` and `b` are assigned _in order_. It may help to think of parameters as placeholders for values that are taken as input when the function is called. \n",
    "\n",
    "\n",
    "- a colon `:` and a newline take us to the body of the function. Notice after the newline we have an indented block. This block defines the _internal_ workings of the function, and effectively acts as a lockbox, preventing anything outside the function from seeing the data.\n",
    "\n",
    "\n",
    "- there's another keyword, `return` that tells Python what information to pass outside of the code block. `return` passes the information on to whichever process called the function. So for example if we run: `type(add_squares(1,2))`, the interpreter will first evaluate `add_squares(1,2)` and then pass that answer along to the `type()` function, which should spit out `int`. "
   ]
  },
  {
   "cell_type": "markdown",
   "metadata": {},
   "source": [
    "So why doesn't the cell spit anything out when we run it? It's because all that code does is __define__ the function; it only tells Python what `add_squares` means. \n",
    "\n",
    "If we want to actually use the function, we need to _call_ it. When you call a function, you have to give it an __argument__ for every required __parameter__ - in this case, the values of `a` and `b`.\n",
    "\n",
    "An example function call is shown below:"
   ]
  },
  {
   "cell_type": "code",
   "execution_count": 19,
   "metadata": {
    "collapsed": false
   },
   "outputs": [
    {
     "data": {
      "text/plain": [
       "25"
      ]
     },
     "execution_count": 19,
     "metadata": {},
     "output_type": "execute_result"
    }
   ],
   "source": [
    "#Passing the positional arguments 3 and 4 to add_squares(a, b).\n",
    "#Since the function looks for a, b...\n",
    "#INSIDE the function, a=3 and b=4. \n",
    "add_squares(3, 4) "
   ]
  },
  {
   "cell_type": "markdown",
   "metadata": {},
   "source": [
    "Not so bad, right? Just a few more notes:\n",
    "\n",
    "Unless you specify otherwise, what happens in the function stays in the function! You might be thinking that somewhere along the line, Python learned that a = 3 and b = 4, but if you ask the interpreter about those values, you'll see it has no idea what you're talking about."
   ]
  },
  {
   "cell_type": "code",
   "execution_count": 20,
   "metadata": {
    "collapsed": false
   },
   "outputs": [
    {
     "ename": "NameError",
     "evalue": "name 'a' is not defined",
     "output_type": "error",
     "traceback": [
      "\u001b[0;31m---------------------------------------------------------------------------\u001b[0m",
      "\u001b[0;31mNameError\u001b[0m                                 Traceback (most recent call last)",
      "\u001b[0;32m<ipython-input-20-dd6275ab97fd>\u001b[0m in \u001b[0;36m<module>\u001b[0;34m()\u001b[0m\n\u001b[1;32m      1\u001b[0m \u001b[0;31m#Don't fall into the trap!\u001b[0m\u001b[0;34m\u001b[0m\u001b[0;34m\u001b[0m\u001b[0m\n\u001b[0;32m----> 2\u001b[0;31m \u001b[0mprint\u001b[0m\u001b[0;34m(\u001b[0m\u001b[0ma\u001b[0m\u001b[0;34m)\u001b[0m\u001b[0;34m\u001b[0m\u001b[0m\n\u001b[0m",
      "\u001b[0;31mNameError\u001b[0m: name 'a' is not defined"
     ]
    }
   ],
   "source": [
    "#Don't fall into the trap!\n",
    "print(a)"
   ]
  },
  {
   "cell_type": "markdown",
   "metadata": {},
   "source": [
    "Finally you may be (but probably aren't) wondering why our function printed out the results without having called the `print()` function. \n",
    "\n",
    "In an interactive shell, a function will `return` its value to stdout (the terminal window) unless it's assigned elsewhere. In a non-interactive environment, the value disappears into the void unless something else captures it. _i.e._ if you were to run the program above from the command line, you'd see nothing happen."
   ]
  },
  {
   "cell_type": "code",
   "execution_count": null,
   "metadata": {
    "collapsed": true
   },
   "outputs": [],
   "source": [
    "#Example that stores the return value\n",
    "c_squared = add_squares(5, 12)"
   ]
  },
  {
   "cell_type": "code",
   "execution_count": null,
   "metadata": {
    "collapsed": false
   },
   "outputs": [],
   "source": [
    "print(c_squared)"
   ]
  }
 ],
 "metadata": {
  "kernelspec": {
   "display_name": "Python 3",
   "language": "python",
   "name": "python3"
  },
  "language_info": {
   "codemirror_mode": {
    "name": "ipython",
    "version": 3
   },
   "file_extension": ".py",
   "mimetype": "text/x-python",
   "name": "python",
   "nbconvert_exporter": "python",
   "pygments_lexer": "ipython3",
   "version": "3.5.2"
  }
 },
 "nbformat": 4,
 "nbformat_minor": 0
}
