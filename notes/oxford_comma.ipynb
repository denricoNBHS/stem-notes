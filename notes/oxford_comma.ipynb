{
 "cells": [
  {
   "cell_type": "markdown",
   "metadata": {},
   "source": [
    "# Exercise: The Oxford Comma"
   ]
  },
  {
   "cell_type": "markdown",
   "metadata": {},
   "source": [
    "Your goal is to write a function that accepts a Python `list` of words and returns a well-formatted _English_ list of those words using the Oxford comma. For example, with an input of `[\"sugar\", \"butter\", \"flour\", \"eggs\"]`, the function should return `\"sugar, butter, flour, and eggs\"`.\n",
    "\n",
    "This task is considerably more complex than the examples we've worked in class, so it might be helpful to take stock of _exactly_ what this function needs to do.\n",
    "\n",
    "First, we should check to make sure we understand what a _well-formatted_ list means in the context of this problem. In English, we use commas to separate items in a list, with the last item preceded by the word _and_.\n",
    "\n",
    "If we were to break this into bite-size tasks, we might do so as follows:\n",
    "1. take all of the words but the last from the list and join them into a comma-separated string.\n",
    "2. glue the last word preceded by ', and' onto the string from the previous step. \n",
    "\n",
    "We can use the interactive prompt as a kind of scratch paper to test our work:"
   ]
  },
  {
   "cell_type": "code",
   "execution_count": 46,
   "metadata": {},
   "outputs": [
    {
     "data": {
      "text/plain": [
       "'sugar, butter, flour, eggs'"
      ]
     },
     "execution_count": 46,
     "metadata": {},
     "output_type": "execute_result"
    }
   ],
   "source": [
    "ingredients = [\"sugar\", \"butter\", \"flour\", \"eggs\"]\n",
    "\n",
    "# Using the join method seems to make sense for step 1 - heck, it's in the description:\n",
    "\n",
    "', '.join(ingredients)"
   ]
  },
  {
   "cell_type": "markdown",
   "metadata": {},
   "source": [
    "Not bad! However, English, pesky as it is, demands that we give the last element in our list special treatment. So let's apply our join to everything _but_ the last item. To do this, we can use a list slice:"
   ]
  },
  {
   "cell_type": "code",
   "execution_count": 47,
   "metadata": {},
   "outputs": [
    {
     "data": {
      "text/plain": [
       "'sugar, butter, flour'"
      ]
     },
     "execution_count": 47,
     "metadata": {},
     "output_type": "execute_result"
    }
   ],
   "source": [
    "# slice the words list starting from the beginning \n",
    "# and go up to but not including the last element.\n",
    "\n",
    "', '.join(ingredients[:-1])"
   ]
  },
  {
   "cell_type": "markdown",
   "metadata": {},
   "source": [
    "Nice! Since this is part of our solution, we may want to save this for later. Let's give this string a name:"
   ]
  },
  {
   "cell_type": "code",
   "execution_count": 48,
   "metadata": {},
   "outputs": [
    {
     "name": "stdout",
     "output_type": "stream",
     "text": [
      "sugar, butter, flour\n"
     ]
    }
   ],
   "source": [
    "beginning = ', '.join(ingredients[:-1])\n",
    "print(beginning)"
   ]
  },
  {
   "cell_type": "markdown",
   "metadata": {},
   "source": [
    "We'll also need to grab that last element, and for similar reasons, give it a name as well:"
   ]
  },
  {
   "cell_type": "code",
   "execution_count": 49,
   "metadata": {},
   "outputs": [
    {
     "name": "stdout",
     "output_type": "stream",
     "text": [
      "eggs\n"
     ]
    }
   ],
   "source": [
    "end = ingredients[-1]\n",
    "print(end)"
   ]
  },
  {
   "cell_type": "markdown",
   "metadata": {},
   "source": [
    "To satisfy step 2 from above, we'll need to prepend that last word with `', and '`. You may remember that the `+` operator acts as a kind of string \"glue\" in Python - we call this operation _concatenation_.\n",
    "\n",
    "For example:"
   ]
  },
  {
   "cell_type": "code",
   "execution_count": 50,
   "metadata": {},
   "outputs": [
    {
     "data": {
      "text/plain": [
       "'jabberwocky'"
      ]
     },
     "execution_count": 50,
     "metadata": {},
     "output_type": "execute_result"
    }
   ],
   "source": [
    "'jabber' + 'wocky'"
   ]
  },
  {
   "cell_type": "markdown",
   "metadata": {},
   "source": [
    "So in our problem, we could try:"
   ]
  },
  {
   "cell_type": "code",
   "execution_count": 51,
   "metadata": {},
   "outputs": [
    {
     "name": "stdout",
     "output_type": "stream",
     "text": [
      "sugar, butter, flour, and eggs\n"
     ]
    }
   ],
   "source": [
    "oxford = beginning + ', and ' + end\n",
    "print(oxford)"
   ]
  },
  {
   "cell_type": "markdown",
   "metadata": {},
   "source": [
    "It worked! So now we've got a way of taking a list as input and formatting it as a string with an Oxford comma. Let's bundle it up into a function:"
   ]
  },
  {
   "cell_type": "code",
   "execution_count": 61,
   "metadata": {},
   "outputs": [
    {
     "data": {
      "text/plain": [
       "'sugar, butter, flour, and eggs'"
      ]
     },
     "execution_count": 61,
     "metadata": {},
     "output_type": "execute_result"
    }
   ],
   "source": [
    "# define the function\n",
    "def oxfordify(items):\n",
    "    beginning = ', '.join(items[:-1])\n",
    "    end = items[-1]\n",
    "    return beginning + ', and ' + end\n",
    "\n",
    "# call the function on the list of ingredients\n",
    "oxfordify(ingredients)"
   ]
  },
  {
   "cell_type": "code",
   "execution_count": 53,
   "metadata": {},
   "outputs": [
    {
     "data": {
      "text/plain": [
       "'Larry, Moe, and Curly'"
      ]
     },
     "execution_count": 53,
     "metadata": {},
     "output_type": "execute_result"
    }
   ],
   "source": [
    "oxfordify([\"Larry\", \"Moe\", \"Curly\"])"
   ]
  },
  {
   "cell_type": "markdown",
   "metadata": {},
   "source": [
    "Not bad! Of course, there's plenty more that could be done. For example, what if the function is called on an empty list, or a list with only one element, or nothing at all? How might we like our function to behave in these situations?"
   ]
  },
  {
   "cell_type": "code",
   "execution_count": 65,
   "metadata": {},
   "outputs": [
    {
     "ename": "IndexError",
     "evalue": "list index out of range",
     "output_type": "error",
     "traceback": [
      "\u001b[0;31m---------------------------------------------------------------------------\u001b[0m",
      "\u001b[0;31mIndexError\u001b[0m                                Traceback (most recent call last)",
      "\u001b[0;32m<ipython-input-65-799e536cc720>\u001b[0m in \u001b[0;36m<module>\u001b[0;34m()\u001b[0m\n\u001b[1;32m      1\u001b[0m \u001b[0;31m# called on an empty list\u001b[0m\u001b[0;34m\u001b[0m\u001b[0;34m\u001b[0m\u001b[0m\n\u001b[0;32m----> 2\u001b[0;31m \u001b[0moxfordify\u001b[0m\u001b[0;34m(\u001b[0m\u001b[0;34m[\u001b[0m\u001b[0;34m]\u001b[0m\u001b[0;34m)\u001b[0m\u001b[0;34m\u001b[0m\u001b[0m\n\u001b[0m",
      "\u001b[0;32m<ipython-input-61-5ef818c64e89>\u001b[0m in \u001b[0;36moxfordify\u001b[0;34m(items)\u001b[0m\n\u001b[1;32m      2\u001b[0m \u001b[0;32mdef\u001b[0m \u001b[0moxfordify\u001b[0m\u001b[0;34m(\u001b[0m\u001b[0mitems\u001b[0m\u001b[0;34m)\u001b[0m\u001b[0;34m:\u001b[0m\u001b[0;34m\u001b[0m\u001b[0m\n\u001b[1;32m      3\u001b[0m     \u001b[0mbeginning\u001b[0m \u001b[0;34m=\u001b[0m \u001b[0;34m', '\u001b[0m\u001b[0;34m.\u001b[0m\u001b[0mjoin\u001b[0m\u001b[0;34m(\u001b[0m\u001b[0mitems\u001b[0m\u001b[0;34m[\u001b[0m\u001b[0;34m:\u001b[0m\u001b[0;34m-\u001b[0m\u001b[0;36m1\u001b[0m\u001b[0;34m]\u001b[0m\u001b[0;34m)\u001b[0m\u001b[0;34m\u001b[0m\u001b[0m\n\u001b[0;32m----> 4\u001b[0;31m     \u001b[0mend\u001b[0m \u001b[0;34m=\u001b[0m \u001b[0mitems\u001b[0m\u001b[0;34m[\u001b[0m\u001b[0;34m-\u001b[0m\u001b[0;36m1\u001b[0m\u001b[0;34m]\u001b[0m\u001b[0;34m\u001b[0m\u001b[0m\n\u001b[0m\u001b[1;32m      5\u001b[0m     \u001b[0;32mreturn\u001b[0m \u001b[0mbeginning\u001b[0m \u001b[0;34m+\u001b[0m \u001b[0;34m', and '\u001b[0m \u001b[0;34m+\u001b[0m \u001b[0mend\u001b[0m\u001b[0;34m\u001b[0m\u001b[0m\n\u001b[1;32m      6\u001b[0m \u001b[0;34m\u001b[0m\u001b[0m\n",
      "\u001b[0;31mIndexError\u001b[0m: list index out of range"
     ]
    }
   ],
   "source": [
    "# called on an empty list\n",
    "oxfordify([])"
   ]
  },
  {
   "cell_type": "code",
   "execution_count": 66,
   "metadata": {},
   "outputs": [
    {
     "data": {
      "text/plain": [
       "', and Sad face'"
      ]
     },
     "execution_count": 66,
     "metadata": {},
     "output_type": "execute_result"
    }
   ],
   "source": [
    "# called on a list with one element\n",
    "oxfordify([\"Sad face\"])"
   ]
  },
  {
   "cell_type": "code",
   "execution_count": 67,
   "metadata": {},
   "outputs": [
    {
     "ename": "TypeError",
     "evalue": "oxfordify() missing 1 required positional argument: 'items'",
     "output_type": "error",
     "traceback": [
      "\u001b[0;31m---------------------------------------------------------------------------\u001b[0m",
      "\u001b[0;31mTypeError\u001b[0m                                 Traceback (most recent call last)",
      "\u001b[0;32m<ipython-input-67-9c6ab8b1e427>\u001b[0m in \u001b[0;36m<module>\u001b[0;34m()\u001b[0m\n\u001b[1;32m      1\u001b[0m \u001b[0;31m# called on nothing at all\u001b[0m\u001b[0;34m\u001b[0m\u001b[0;34m\u001b[0m\u001b[0m\n\u001b[0;32m----> 2\u001b[0;31m \u001b[0moxfordify\u001b[0m\u001b[0;34m(\u001b[0m\u001b[0;34m)\u001b[0m\u001b[0;34m\u001b[0m\u001b[0m\n\u001b[0m",
      "\u001b[0;31mTypeError\u001b[0m: oxfordify() missing 1 required positional argument: 'items'"
     ]
    }
   ],
   "source": [
    "# called on nothing at all\n",
    "oxfordify()"
   ]
  },
  {
   "cell_type": "markdown",
   "metadata": {},
   "source": [
    "You might also ask, \"Is this the _best_ way to solve the problem?\" And then you might worry about what the word _best_ means in this context. Is it the most readable code? The most efficient code? Is there a sweet spot between the two?\n",
    "\n",
    "Here's an example of some code that's shorter (just one line!), but perhaps less readable:"
   ]
  },
  {
   "cell_type": "code",
   "execution_count": 68,
   "metadata": {},
   "outputs": [
    {
     "data": {
      "text/plain": [
       "'sugar, butter, flour, and eggs'"
      ]
     },
     "execution_count": 68,
     "metadata": {},
     "output_type": "execute_result"
    }
   ],
   "source": [
    "def oxford_drama(items):\n",
    "    return '{}, and {}'.format(', '.join(items[:-1]), items[-1])\n",
    "\n",
    "oxford_drama(ingredients)"
   ]
  },
  {
   "cell_type": "markdown",
   "metadata": {},
   "source": [
    "Don't let these worries keep you from patting yourself on the back; you've solved the problem, and that's commendable. However, if you plan on using this function as part of a larger project, it can be helpful to try to anticipate the situations in which your function might break. We'll work on bulletproofing your function once we have a few more tricks up our sleeves. For now, be proud and treat yourself to a juicebox!"
   ]
  }
 ],
 "metadata": {
  "kernelspec": {
   "display_name": "Python 3",
   "language": "python",
   "name": "python3"
  },
  "language_info": {
   "codemirror_mode": {
    "name": "ipython",
    "version": 3
   },
   "file_extension": ".py",
   "mimetype": "text/x-python",
   "name": "python",
   "nbconvert_exporter": "python",
   "pygments_lexer": "ipython3",
   "version": "3.6.3"
  }
 },
 "nbformat": 4,
 "nbformat_minor": 2
}
