{
 "cells": [
  {
   "cell_type": "markdown",
   "metadata": {},
   "source": [
    "# Crash Course: Lists\n",
    "\n",
    "Below, you'll find a list. Lists in Python are enclosed in square brackets with elements separated by commas."
   ]
  },
  {
   "cell_type": "code",
   "execution_count": 1,
   "metadata": {},
   "outputs": [
    {
     "name": "stdout",
     "output_type": "stream",
     "text": [
      "[1, 2.5, 'Hamburger', ['a', 'b', 'c']]\n"
     ]
    }
   ],
   "source": [
    "my_list = [1, 2.5, 'Hamburger', ['a', 'b', 'c']]\n",
    "print(my_list)"
   ]
  },
  {
   "cell_type": "markdown",
   "metadata": {},
   "source": [
    "In this list you see an integer, a float, a string, and a list (of strings), respectively. Lists in Python are flexible and can contain multiple data types. \n",
    "\n",
    "Lists and strings are examples of *sequences*; in short, this means their elements are indexed and can be looped over (i.e. they are _iterable_). In Python, we use square brackets after an  object's name to refer to one of its elements by index. Additionally, if there is an iterable object within another (e.g. a list within a list), we can use multiple indices to access an element. See the example in the next cell to watch this in action.\n",
    "\n",
    "*Note:* list indices in Python, as with many other languages, start with 0. We can also use negative numbers to count backwards from the end of the list (starting at -1, since -0 doesn't make any sense.)"
   ]
  },
  {
   "cell_type": "code",
   "execution_count": 9,
   "metadata": {},
   "outputs": [
    {
     "name": "stdout",
     "output_type": "stream",
     "text": [
      "Shower\n",
      "Brush teeth\n",
      "Get dressed\n",
      "S\n"
     ]
    }
   ],
   "source": [
    "to_do_list = ['Shower', 'Shave', 'Eat breakfast', 'Brush teeth', 'Get dressed']\n",
    "print(to_do_list[0])     #prints the *first* item in the to do list\n",
    "print(to_do_list[3])     #prints the *fourth* item in the to do list\n",
    "print(to_do_list[-1])    #prints the *last* item in the to do list\n",
    "print(to_do_list[0][0])  #prints the first item (letter) of the first item in the to do list!"
   ]
  },
  {
   "cell_type": "markdown",
   "metadata": {},
   "source": [
    "Take note of how you can reference a list *within* a list using two bracketed numbers."
   ]
  },
  {
   "cell_type": "markdown",
   "metadata": {},
   "source": [
    "You aren't limited to picking individual items from an iterable; you can use *list slicing* to capture parts of a list. The syntax `[begin : end : step]` takes the slice of the list from `begin` up to *but not including* `end`. The `step` parameter tells Python how to count as it moves through the iterable. For example, a step of 2 would take every other letter. As with the last example, negative numbers count backwards. Note, if you omit the *step* argument, Python assumes it's 1. Some examples follow:"
   ]
  },
  {
   "cell_type": "code",
   "execution_count": 10,
   "metadata": {},
   "outputs": [
    {
     "name": "stdout",
     "output_type": "stream",
     "text": [
      "out\n",
      "standing\n",
      "osnn\n",
      "gnidnatstuo\n"
     ]
    }
   ],
   "source": [
    "string = 'outstanding'\n",
    "print(string[0:3])  #takes the string from index 0 up to but not including index 3.\n",
    "print(string[3:])   #takes the string from index 3 to the end.\n",
    "print(string[::3])  #takes every third letter from the string\n",
    "print(string[::-1]) #takes every letter from the string starting at the end and working backwards."
   ]
  },
  {
   "cell_type": "markdown",
   "metadata": {},
   "source": [
    "We can also loop over iterables -- this code *iterates* over each item in `groceries`, printing each on a separate line. Note that `item` isn't a Python keyword - it's just a name that we choose for Python to refer to each element in a list. We can just as easily replace it with something else and not change the function of the code whatsoever!\n"
   ]
  },
  {
   "cell_type": "code",
   "execution_count": 11,
   "metadata": {},
   "outputs": [
    {
     "name": "stdout",
     "output_type": "stream",
     "text": [
      "apples\n",
      "kale\n",
      "brussels sprouts\n",
      "milk\n",
      "tofu\n",
      "bread\n"
     ]
    }
   ],
   "source": [
    "groceries = ['apples', 'kale', 'brussels sprouts', 'milk', 'tofu', 'bread']\n",
    "for item in groceries:\n",
    "    print(item)"
   ]
  },
  {
   "cell_type": "code",
   "execution_count": 12,
   "metadata": {},
   "outputs": [
    {
     "name": "stdout",
     "output_type": "stream",
     "text": [
      "apples\n",
      "kale\n",
      "brussels sprouts\n",
      "milk\n",
      "tofu\n",
      "bread\n"
     ]
    }
   ],
   "source": [
    "for asdfghjkl in groceries:\n",
    "    print(asdfghjkl)"
   ]
  },
  {
   "cell_type": "markdown",
   "metadata": {},
   "source": [
    "Obviously the first example is preferable due to its easy readability. Keep this in mind as you start writing your own code!"
   ]
  },
  {
   "cell_type": "markdown",
   "metadata": {},
   "source": [
    "Like `lists`, `strings` are iterable; the elements of a `str` are its individual characters. See the similarity to the code from the last example? Strings behave just like lists in this context!"
   ]
  },
  {
   "cell_type": "code",
   "execution_count": 3,
   "metadata": {},
   "outputs": [
    {
     "name": "stdout",
     "output_type": "stream",
     "text": [
      "H\n",
      "a\n",
      "m\n",
      "b\n",
      "u\n",
      "r\n",
      "g\n",
      "e\n",
      "r\n"
     ]
    }
   ],
   "source": [
    "for letter in \"Hamburger\":\n",
    "    print(letter)"
   ]
  },
  {
   "cell_type": "markdown",
   "metadata": {},
   "source": [
    "You can also use programming logic to select items from a list. Imagine we had a list of integers from 1 to 20. Let's say we wanted to make a new list that only included the numbers divisible by three. How could we do it? One way is called a *list comprehension*, shown below.\n"
   ]
  },
  {
   "cell_type": "code",
   "execution_count": 14,
   "metadata": {},
   "outputs": [
    {
     "name": "stdout",
     "output_type": "stream",
     "text": [
      "[3, 6, 9, 12, 15, 18]\n"
     ]
    }
   ],
   "source": [
    "# range(start, end) is a built in function that returns an iterable\n",
    "# with the integers starting at start and going up to, but not including end\n",
    "\n",
    "ints = range(1, 21)     \n",
    "# \"Make a list of n for every n in the list ints where n mod 3 equals zero.\"\n",
    "div_by_three = [n for n in ints if n % 3 == 0]\n",
    "print(div_by_three)"
   ]
  },
  {
   "cell_type": "markdown",
   "metadata": {},
   "source": [
    "We can double the elements of a list in a similar fashion;"
   ]
  },
  {
   "cell_type": "code",
   "execution_count": 15,
   "metadata": {},
   "outputs": [
    {
     "name": "stdout",
     "output_type": "stream",
     "text": [
      "[2, 4, 6, 8, 10, 12, 14, 16, 18, 20, 22, 24, 26, 28, 30, 32, 34, 36, 38, 40]\n"
     ]
    }
   ],
   "source": [
    "# \"Make a list of 2n for every n in the list of integers starting at one and going up to but not including 21.\"\n",
    "doubled = [2*n for n in range(1,21)]\n",
    "print(doubled)"
   ]
  },
  {
   "cell_type": "markdown",
   "metadata": {},
   "source": [
    "You can also use list comprehensions to filter lists. What if we wanted to recover only strings from a list of mixed object types?"
   ]
  },
  {
   "cell_type": "code",
   "execution_count": 2,
   "metadata": {},
   "outputs": [
    {
     "name": "stdout",
     "output_type": "stream",
     "text": [
      "['keys', 'gum', 'wallet', 'Four']\n"
     ]
    }
   ],
   "source": [
    "junk = [3, 5, 4.9, 'keys', 'gum', 'wallet', 4, 33, True, 'Four']\n",
    "just_the_strings = [item for item in junk if type(item) == str]\n",
    "print(just_the_strings)"
   ]
  },
  {
   "cell_type": "markdown",
   "metadata": {},
   "source": [
    "Hopefully this gives you some idea of how to work with lists. Good luck, and happy coding!"
   ]
  }
 ],
 "metadata": {
  "kernelspec": {
   "display_name": "Python 3",
   "language": "python",
   "name": "python3"
  },
  "language_info": {
   "codemirror_mode": {
    "name": "ipython",
    "version": 3
   },
   "file_extension": ".py",
   "mimetype": "text/x-python",
   "name": "python",
   "nbconvert_exporter": "python",
   "pygments_lexer": "ipython3",
   "version": "3.6.3"
  }
 },
 "nbformat": 4,
 "nbformat_minor": 1
}
